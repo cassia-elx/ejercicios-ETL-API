{
 "cells": [
  {
   "cell_type": "code",
   "execution_count": 1,
   "metadata": {},
   "outputs": [],
   "source": [
    "import sys\n",
    "sys.path.append('../')\n",
    "from src import soporte as sp"
   ]
  },
  {
   "attachments": {},
   "cell_type": "markdown",
   "metadata": {},
   "source": [
    "# Evaluación II: Ejercicio 10 Bonus\n",
    "\n",
    "10. BONUS\n",
    "- Crea una clase con todo el código generado en esta evaluación.\n",
    "\n",
    "*He creado una clase para la extraccion y limpieza y una para cargar los datos, como hemos visto en los pair. El código se puede encontrar en el archivo soporte.py.*\n"
   ]
  },
  {
   "cell_type": "code",
   "execution_count": 2,
   "metadata": {},
   "outputs": [
    {
     "name": "stdout",
     "output_type": "stream",
     "text": [
      "La peticion al API para Argentina se ha realizado con éxito.\n",
      "La peticion al API para Canada se ha realizado con éxito.\n",
      "La peticion al API para United States se ha realizado con éxito.\n",
      "Sus datos ya están listos en un dataframe. Aquí tiene los primeros 3 filas:\n"
     ]
    },
    {
     "data": {
      "text/html": [
       "<div>\n",
       "<style scoped>\n",
       "    .dataframe tbody tr th:only-of-type {\n",
       "        vertical-align: middle;\n",
       "    }\n",
       "\n",
       "    .dataframe tbody tr th {\n",
       "        vertical-align: top;\n",
       "    }\n",
       "\n",
       "    .dataframe thead th {\n",
       "        text-align: right;\n",
       "    }\n",
       "</style>\n",
       "<table border=\"1\" class=\"dataframe\">\n",
       "  <thead>\n",
       "    <tr style=\"text-align: right;\">\n",
       "      <th></th>\n",
       "      <th>state-province</th>\n",
       "      <th>domains</th>\n",
       "      <th>name</th>\n",
       "      <th>country</th>\n",
       "      <th>web_pages</th>\n",
       "      <th>alpha_two_code</th>\n",
       "    </tr>\n",
       "  </thead>\n",
       "  <tbody>\n",
       "    <tr>\n",
       "      <th>0</th>\n",
       "      <td>Buenos Aires</td>\n",
       "      <td>[atlantida.edu.ar]</td>\n",
       "      <td>Universidad Atlantida Argentina</td>\n",
       "      <td>Argentina</td>\n",
       "      <td>[http://www.atlantida.edu.ar/]</td>\n",
       "      <td>AR</td>\n",
       "    </tr>\n",
       "    <tr>\n",
       "      <th>1</th>\n",
       "      <td>Buenos Aires</td>\n",
       "      <td>[austral.edu.ar]</td>\n",
       "      <td>Universidad Austral Buenos Aires</td>\n",
       "      <td>Argentina</td>\n",
       "      <td>[http://www.austral.edu.ar/]</td>\n",
       "      <td>AR</td>\n",
       "    </tr>\n",
       "    <tr>\n",
       "      <th>2</th>\n",
       "      <td>Ciudad Autónoma de Buenos Aires</td>\n",
       "      <td>[caece.edu.ar]</td>\n",
       "      <td>Universidad CAECE, Buenos Aires</td>\n",
       "      <td>Argentina</td>\n",
       "      <td>[http://www.caece.edu.ar/]</td>\n",
       "      <td>AR</td>\n",
       "    </tr>\n",
       "  </tbody>\n",
       "</table>\n",
       "</div>"
      ],
      "text/plain": [
       "                    state-province             domains  \\\n",
       "0                     Buenos Aires  [atlantida.edu.ar]   \n",
       "1                     Buenos Aires    [austral.edu.ar]   \n",
       "2  Ciudad Autónoma de Buenos Aires      [caece.edu.ar]   \n",
       "\n",
       "                               name    country  \\\n",
       "0   Universidad Atlantida Argentina  Argentina   \n",
       "1  Universidad Austral Buenos Aires  Argentina   \n",
       "2   Universidad CAECE, Buenos Aires  Argentina   \n",
       "\n",
       "                        web_pages alpha_two_code  \n",
       "0  [http://www.atlantida.edu.ar/]             AR  \n",
       "1    [http://www.austral.edu.ar/]             AR  \n",
       "2      [http://www.caece.edu.ar/]             AR  "
      ]
     },
     "metadata": {},
     "output_type": "display_data"
    }
   ],
   "source": [
    "unis = sp.Extraccion(['Argentina', 'Canada', 'United States'])\n",
    "\n",
    "datos = unis.llamar_API()"
   ]
  },
  {
   "cell_type": "code",
   "execution_count": 3,
   "metadata": {},
   "outputs": [
    {
     "data": {
      "text/plain": [
       "United States    2281\n",
       "Canada            154\n",
       "Argentina          87\n",
       "Name: country, dtype: int64"
      ]
     },
     "execution_count": 3,
     "metadata": {},
     "output_type": "execute_result"
    }
   ],
   "source": [
    "datos['country'].value_counts()"
   ]
  },
  {
   "cell_type": "code",
   "execution_count": 4,
   "metadata": {},
   "outputs": [
    {
     "name": "stdout",
     "output_type": "stream",
     "text": [
      "Su dataframe se ha limpiado. Aquí tiene la primera fila:\n"
     ]
    },
    {
     "data": {
      "text/html": [
       "<div>\n",
       "<style scoped>\n",
       "    .dataframe tbody tr th:only-of-type {\n",
       "        vertical-align: middle;\n",
       "    }\n",
       "\n",
       "    .dataframe tbody tr th {\n",
       "        vertical-align: top;\n",
       "    }\n",
       "\n",
       "    .dataframe thead th {\n",
       "        text-align: right;\n",
       "    }\n",
       "</style>\n",
       "<table border=\"1\" class=\"dataframe\">\n",
       "  <thead>\n",
       "    <tr style=\"text-align: right;\">\n",
       "      <th></th>\n",
       "      <th>state_province</th>\n",
       "      <th>name</th>\n",
       "      <th>country</th>\n",
       "      <th>web_pages</th>\n",
       "      <th>alpha_two_code</th>\n",
       "    </tr>\n",
       "  </thead>\n",
       "  <tbody>\n",
       "    <tr>\n",
       "      <th>0</th>\n",
       "      <td>Buenos Aires</td>\n",
       "      <td>Universidad Atlantida Argentina</td>\n",
       "      <td>Argentina</td>\n",
       "      <td>[http://www.atlantida.edu.ar/]</td>\n",
       "      <td>AR</td>\n",
       "    </tr>\n",
       "  </tbody>\n",
       "</table>\n",
       "</div>"
      ],
      "text/plain": [
       "  state_province                             name    country  \\\n",
       "0   Buenos Aires  Universidad Atlantida Argentina  Argentina   \n",
       "\n",
       "                        web_pages alpha_two_code  \n",
       "0  [http://www.atlantida.edu.ar/]             AR  "
      ]
     },
     "metadata": {},
     "output_type": "display_data"
    }
   ],
   "source": [
    "unis.limpieza_columnas(datos)\n"
   ]
  },
  {
   "cell_type": "code",
   "execution_count": 5,
   "metadata": {},
   "outputs": [
    {
     "data": {
      "text/plain": [
       "(2535, 5)"
      ]
     },
     "execution_count": 5,
     "metadata": {},
     "output_type": "execute_result"
    }
   ],
   "source": [
    "datos = unis.explode_columna(datos, 'web_pages')\n",
    "\n",
    "datos.shape"
   ]
  },
  {
   "cell_type": "code",
   "execution_count": 6,
   "metadata": {},
   "outputs": [
    {
     "name": "stdout",
     "output_type": "stream",
     "text": [
      "Se han eliminado 28 filas del dataframe.\n"
     ]
    },
    {
     "data": {
      "text/plain": [
       "(2507, 5)"
      ]
     },
     "execution_count": 6,
     "metadata": {},
     "output_type": "execute_result"
    }
   ],
   "source": [
    "unis.eliminar_dup(datos, 'name')\n",
    "\n",
    "datos.shape"
   ]
  },
  {
   "cell_type": "code",
   "execution_count": 7,
   "metadata": {},
   "outputs": [
    {
     "name": "stdout",
     "output_type": "stream",
     "text": [
      "Se han reemplazado 2234 valores None por np.nan en la columna state_province.\n"
     ]
    },
    {
     "data": {
      "text/plain": [
       "array(['Buenos Aires', 'Ciudad Autónoma de Buenos Aires', 'Entre Ríos',\n",
       "       'Salta', 'Córdoba', 'Mendoza', 'Santa Fé', nan,\n",
       "       'Santiago Del Estero', 'Misiones', 'Catamarca', 'Formosa', 'Jujuy',\n",
       "       'La Rioja', 'La Pampa', 'San Juan', 'San Luis', 'Tucumán',\n",
       "       'Quebec', 'Ontario', 'Nova Scotia', 'British Columbia', 'Alberta',\n",
       "       'Manitoba', 'New Brunswick', 'Saskatchewan',\n",
       "       'Newfoundland and Labrador', 'Prince Edward Island', 'Yukon',\n",
       "       'Pennsylvania', 'NV', 'Iowa', 'VA', 'TX', 'Colorado', 'IN', 'CA',\n",
       "       'South Carolina', 'Washington', 'NY', 'Texas', 'ND', 'MI', 'Ohio',\n",
       "       'Florida', 'California', 'North Carolina', 'Michigan', 'GA',\n",
       "       'New York, NY'], dtype=object)"
      ]
     },
     "execution_count": 7,
     "metadata": {},
     "output_type": "execute_result"
    }
   ],
   "source": [
    "unis.none_nan(datos, 'state_province')\n",
    "\n",
    "datos['state_province'].unique()"
   ]
  },
  {
   "cell_type": "code",
   "execution_count": 8,
   "metadata": {},
   "outputs": [
    {
     "name": "stdout",
     "output_type": "stream",
     "text": [
      "Se han reemplazado 2234 valores nulos en la columna state_province por Unknown.\n"
     ]
    },
    {
     "data": {
      "text/plain": [
       "Unknown             2234\n",
       "Ontario               46\n",
       "British Columbia      33\n",
       "Pennsylvania          28\n",
       "Quebec                24\n",
       "Name: state_province, dtype: int64"
      ]
     },
     "execution_count": 8,
     "metadata": {},
     "output_type": "execute_result"
    }
   ],
   "source": [
    "unis.reemplazar_nulos(datos, 'state_province', 'Unknown')\n",
    "\n",
    "datos['state_province'].value_counts().head(5)"
   ]
  },
  {
   "cell_type": "code",
   "execution_count": 9,
   "metadata": {},
   "outputs": [],
   "source": [
    "dicc_estados = {'NV': 'Nevada',\n",
    "                'TX': 'Texas',\n",
    "                'IN': 'Indianapolis',\n",
    "                'CA': 'California',\n",
    "                'VA': 'Virginia',\n",
    "                'NY': 'New York',\n",
    "                'MI': 'Michigan',\n",
    "                'GA': 'Georgia',\n",
    "                'ND': 'North Dakota'}"
   ]
  },
  {
   "cell_type": "code",
   "execution_count": 10,
   "metadata": {},
   "outputs": [
    {
     "name": "stdout",
     "output_type": "stream",
     "text": [
      "Se han reemplazado los valores segun el mapa. Ahora los valores unicos de la columna state_province son:\n",
      "['Buenos Aires' 'Ciudad Autónoma de Buenos Aires' 'Entre Ríos' 'Salta'\n",
      " 'Córdoba' 'Mendoza' 'Santa Fé' 'Unknown' 'Santiago Del Estero' 'Misiones'\n",
      " 'Catamarca' 'Formosa' 'Jujuy' 'La Rioja' 'La Pampa' 'San Juan' 'San Luis'\n",
      " 'Tucumán' 'Quebec' 'Ontario' 'Nova Scotia' 'British Columbia' 'Alberta'\n",
      " 'Manitoba' 'New Brunswick' 'Saskatchewan' 'Newfoundland and Labrador'\n",
      " 'Prince Edward Island' 'Yukon' 'Pennsylvania' 'Nevada' 'Iowa' 'Virginia'\n",
      " 'Texas' 'Colorado' 'Indianapolis' 'California' 'South Carolina'\n",
      " 'Washington' 'New York' 'North Dakota' 'Michigan' 'Ohio' 'Florida'\n",
      " 'North Carolina' 'Georgia' 'New York, NY']\n"
     ]
    }
   ],
   "source": [
    "unis.reemplazar_valores(datos, 'state_province', dicc_estados)"
   ]
  },
  {
   "cell_type": "code",
   "execution_count": 11,
   "metadata": {},
   "outputs": [],
   "source": [
    "dicc_ciudades = {'Ciudad Autónoma de Buenos Aires':'Buenos Aires',\n",
    "                 'New York, NY':'New York'}"
   ]
  },
  {
   "cell_type": "code",
   "execution_count": 12,
   "metadata": {},
   "outputs": [
    {
     "name": "stdout",
     "output_type": "stream",
     "text": [
      "Se han reemplazado los valores segun el mapa. Ahora los valores unicos de la columna state_province son:\n",
      "['Buenos Aires' 'Entre Ríos' 'Salta' 'Córdoba' 'Mendoza' 'Santa Fé'\n",
      " 'Unknown' 'Santiago Del Estero' 'Misiones' 'Catamarca' 'Formosa' 'Jujuy'\n",
      " 'La Rioja' 'La Pampa' 'San Juan' 'San Luis' 'Tucumán' 'Quebec' 'Ontario'\n",
      " 'Nova Scotia' 'British Columbia' 'Alberta' 'Manitoba' 'New Brunswick'\n",
      " 'Saskatchewan' 'Newfoundland and Labrador' 'Prince Edward Island' 'Yukon'\n",
      " 'Pennsylvania' 'Nevada' 'Iowa' 'Virginia' 'Texas' 'Colorado'\n",
      " 'Indianapolis' 'California' 'South Carolina' 'Washington' 'New York'\n",
      " 'North Dakota' 'Michigan' 'Ohio' 'Florida' 'North Carolina' 'Georgia']\n"
     ]
    }
   ],
   "source": [
    "unis.reemplazar_valores(datos, 'state_province', dicc_ciudades)"
   ]
  },
  {
   "cell_type": "code",
   "execution_count": 13,
   "metadata": {},
   "outputs": [],
   "source": [
    "datos = unis.lat_long_merge(datos, 'Cassia')"
   ]
  },
  {
   "cell_type": "code",
   "execution_count": 14,
   "metadata": {},
   "outputs": [
    {
     "data": {
      "text/html": [
       "<div>\n",
       "<style scoped>\n",
       "    .dataframe tbody tr th:only-of-type {\n",
       "        vertical-align: middle;\n",
       "    }\n",
       "\n",
       "    .dataframe tbody tr th {\n",
       "        vertical-align: top;\n",
       "    }\n",
       "\n",
       "    .dataframe thead th {\n",
       "        text-align: right;\n",
       "    }\n",
       "</style>\n",
       "<table border=\"1\" class=\"dataframe\">\n",
       "  <thead>\n",
       "    <tr style=\"text-align: right;\">\n",
       "      <th></th>\n",
       "      <th>state_province</th>\n",
       "      <th>name</th>\n",
       "      <th>country</th>\n",
       "      <th>web_pages</th>\n",
       "      <th>alpha_two_code</th>\n",
       "      <th>latitude</th>\n",
       "      <th>longitude</th>\n",
       "    </tr>\n",
       "  </thead>\n",
       "  <tbody>\n",
       "    <tr>\n",
       "      <th>0</th>\n",
       "      <td>Buenos Aires</td>\n",
       "      <td>Universidad Atlantida Argentina</td>\n",
       "      <td>Argentina</td>\n",
       "      <td>http://www.atlantida.edu.ar/</td>\n",
       "      <td>AR</td>\n",
       "      <td>-34.607568</td>\n",
       "      <td>-58.437089</td>\n",
       "    </tr>\n",
       "    <tr>\n",
       "      <th>1</th>\n",
       "      <td>Buenos Aires</td>\n",
       "      <td>Universidad Austral Buenos Aires</td>\n",
       "      <td>Argentina</td>\n",
       "      <td>http://www.austral.edu.ar/</td>\n",
       "      <td>AR</td>\n",
       "      <td>-34.607568</td>\n",
       "      <td>-58.437089</td>\n",
       "    </tr>\n",
       "    <tr>\n",
       "      <th>2</th>\n",
       "      <td>Buenos Aires</td>\n",
       "      <td>Universidad CAECE, Buenos Aires</td>\n",
       "      <td>Argentina</td>\n",
       "      <td>http://www.caece.edu.ar/</td>\n",
       "      <td>AR</td>\n",
       "      <td>-34.607568</td>\n",
       "      <td>-58.437089</td>\n",
       "    </tr>\n",
       "    <tr>\n",
       "      <th>3</th>\n",
       "      <td>Buenos Aires</td>\n",
       "      <td>Instituto Universitario CEMA</td>\n",
       "      <td>Argentina</td>\n",
       "      <td>http://www.cema.edu.ar/</td>\n",
       "      <td>AR</td>\n",
       "      <td>-34.607568</td>\n",
       "      <td>-58.437089</td>\n",
       "    </tr>\n",
       "    <tr>\n",
       "      <th>4</th>\n",
       "      <td>Buenos Aires</td>\n",
       "      <td>Instituto de Enseñanza Superior del Ejército</td>\n",
       "      <td>Argentina</td>\n",
       "      <td>http://www.iese.edu.ar/</td>\n",
       "      <td>AR</td>\n",
       "      <td>-34.607568</td>\n",
       "      <td>-58.437089</td>\n",
       "    </tr>\n",
       "    <tr>\n",
       "      <th>5</th>\n",
       "      <td>Buenos Aires</td>\n",
       "      <td>Instituto Universitario de Estudios Navales y ...</td>\n",
       "      <td>Argentina</td>\n",
       "      <td>http://www.inun.edu.ar/</td>\n",
       "      <td>AR</td>\n",
       "      <td>-34.607568</td>\n",
       "      <td>-58.437089</td>\n",
       "    </tr>\n",
       "  </tbody>\n",
       "</table>\n",
       "</div>"
      ],
      "text/plain": [
       "  state_province                                               name  \\\n",
       "0   Buenos Aires                    Universidad Atlantida Argentina   \n",
       "1   Buenos Aires                   Universidad Austral Buenos Aires   \n",
       "2   Buenos Aires                    Universidad CAECE, Buenos Aires   \n",
       "3   Buenos Aires                       Instituto Universitario CEMA   \n",
       "4   Buenos Aires       Instituto de Enseñanza Superior del Ejército   \n",
       "5   Buenos Aires  Instituto Universitario de Estudios Navales y ...   \n",
       "\n",
       "     country                     web_pages alpha_two_code   latitude  \\\n",
       "0  Argentina  http://www.atlantida.edu.ar/             AR -34.607568   \n",
       "1  Argentina    http://www.austral.edu.ar/             AR -34.607568   \n",
       "2  Argentina      http://www.caece.edu.ar/             AR -34.607568   \n",
       "3  Argentina       http://www.cema.edu.ar/             AR -34.607568   \n",
       "4  Argentina       http://www.iese.edu.ar/             AR -34.607568   \n",
       "5  Argentina       http://www.inun.edu.ar/             AR -34.607568   \n",
       "\n",
       "   longitude  \n",
       "0 -58.437089  \n",
       "1 -58.437089  \n",
       "2 -58.437089  \n",
       "3 -58.437089  \n",
       "4 -58.437089  \n",
       "5 -58.437089  "
      ]
     },
     "execution_count": 14,
     "metadata": {},
     "output_type": "execute_result"
    }
   ],
   "source": [
    "datos.head(6)"
   ]
  },
  {
   "cell_type": "code",
   "execution_count": 15,
   "metadata": {},
   "outputs": [],
   "source": [
    "unis_sql = sp.Cargar('universidades', 'AlumnaAdalab')"
   ]
  },
  {
   "cell_type": "code",
   "execution_count": 18,
   "metadata": {},
   "outputs": [
    {
     "name": "stdout",
     "output_type": "stream",
     "text": [
      "La conexión a MySQL se ha realizado con exito.\n",
      "CMySQLCursor: CREATE DATABASE IF NOT EXISTS universida..\n"
     ]
    }
   ],
   "source": [
    "unis_sql.crear_bbdd()"
   ]
  },
  {
   "cell_type": "code",
   "execution_count": 19,
   "metadata": {},
   "outputs": [],
   "source": [
    "query_tabla_paises = \"\"\"CREATE TABLE IF NOT EXISTS `universidades`.`paises` (\n",
    "                        `idestado` INT NOT NULL AUTO_INCREMENT,\n",
    "                        `nombre_pais` VARCHAR(45) NOT NULL,\n",
    "                        `nombre_provincia` VARCHAR(45),\n",
    "                        `latitud` VARCHAR(45) NULL,\n",
    "                        `longitud` VARCHAR(45) NULL,\n",
    "                        PRIMARY KEY (`idestado`))\n",
    "                        ENGINE = InnoDB;\"\"\""
   ]
  },
  {
   "cell_type": "code",
   "execution_count": 20,
   "metadata": {},
   "outputs": [],
   "source": [
    "query_tabla_universidades = \"\"\"CREATE TABLE IF NOT EXISTS `universidades`.`universidades` (\n",
    "                            `iduniversidades` INT NOT NULL AUTO_INCREMENT,\n",
    "                            `nombre_universidad` VARCHAR(100) NOT NULL,\n",
    "                            `pagina_web` VARCHAR(100) NULL,\n",
    "                            `idestado` INT NOT NULL,\n",
    "                            PRIMARY KEY (`iduniversidades`),\n",
    "                            INDEX `fk_universidades_paises_idx` (`idestado` ASC) VISIBLE,\n",
    "                            CONSTRAINT `fk_universidades_paises`\n",
    "                                FOREIGN KEY (`idestado`)\n",
    "                                REFERENCES `universidades`.`paises` (`idestado`)\n",
    "                                ON DELETE CASCADE\n",
    "                                ON UPDATE CASCADE)\n",
    "                            ENGINE = InnoDB;\"\"\""
   ]
  },
  {
   "cell_type": "code",
   "execution_count": 21,
   "metadata": {},
   "outputs": [],
   "source": [
    "unis_sql.crear_insertar_tabla(query_tabla_paises)"
   ]
  },
  {
   "cell_type": "code",
   "execution_count": 22,
   "metadata": {},
   "outputs": [],
   "source": [
    "unis_sql.crear_insertar_tabla(query_tabla_universidades)"
   ]
  }
 ],
 "metadata": {
  "kernelspec": {
   "display_name": "base",
   "language": "python",
   "name": "python3"
  },
  "language_info": {
   "codemirror_mode": {
    "name": "ipython",
    "version": 3
   },
   "file_extension": ".py",
   "mimetype": "text/x-python",
   "name": "python",
   "nbconvert_exporter": "python",
   "pygments_lexer": "ipython3",
   "version": "3.9.7"
  },
  "orig_nbformat": 4
 },
 "nbformat": 4,
 "nbformat_minor": 2
}
